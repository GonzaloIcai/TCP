{
 "cells": [
  {
   "cell_type": "code",
   "execution_count": 1,
   "metadata": {},
   "outputs": [
    {
     "name": "stdout",
     "output_type": "stream",
     "text": [
      "RX:  Hi TCP Client\n"
     ]
    },
    {
     "data": {
      "text/plain": [
       "<bound method socket.close of <socket.socket fd=1272, family=2, type=1, proto=0, laddr=('127.0.0.1', 52510), raddr=('127.0.0.1', 6780)>>"
      ]
     },
     "execution_count": 1,
     "metadata": {},
     "output_type": "execute_result"
    }
   ],
   "source": [
    "import socket\n",
    "import sys\n",
    "\n",
    "#Create a TCP/IP socket\n",
    "sock = socket.socket(socket.AF_INET, socket.SOCK_STREAM)\n",
    "server_address = (\"localhost\", 6780)\n",
    "sock.connect(server_address)\n",
    "sock.sendall(\"HI TCP Server\" .encode())\n",
    "data=sock.recv(1024).decode()\n",
    "print(\"RX: \",data)\n",
    "sock.close"
   ]
  }
 ],
 "metadata": {
  "kernelspec": {
   "display_name": "Python 3",
   "language": "python",
   "name": "python3"
  },
  "language_info": {
   "codemirror_mode": {
    "name": "ipython",
    "version": 3
   },
   "file_extension": ".py",
   "mimetype": "text/x-python",
   "name": "python",
   "nbconvert_exporter": "python",
   "pygments_lexer": "ipython3",
   "version": "3.12.1"
  }
 },
 "nbformat": 4,
 "nbformat_minor": 2
}
