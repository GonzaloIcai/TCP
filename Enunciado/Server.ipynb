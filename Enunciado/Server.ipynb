{
 "cells": [
  {
   "cell_type": "code",
   "execution_count": 2,
   "metadata": {},
   "outputs": [
    {
     "name": "stdout",
     "output_type": "stream",
     "text": [
      "Server up and listening\n",
      "RX:  HI TCP Server\n"
     ]
    }
   ],
   "source": [
    "import socket \n",
    "import sys \n",
    " \n",
    "#create a TCP/IP SOCKET \n",
    " \n",
    "socket=socket.socket(socket.AF_INET, socket.SOCK_STREAM) \n",
    "server_address=('localhost',6780) \n",
    "socket.bind(server_address) \n",
    "print(\"Server up and listening\") \n",
    "socket.listen(1) \n",
    "connection,client_address=socket.accept() \n",
    "data=connection.recv(1024).decode() \n",
    "print(\"RX: \", data) \n",
    " \n",
    "connection.sendall(\"Hi TCP Client\".encode()) \n",
    "     \n",
    "connection.close() "
   ]
  }
 ],
 "metadata": {
  "kernelspec": {
   "display_name": "Python 3",
   "language": "python",
   "name": "python3"
  },
  "language_info": {
   "codemirror_mode": {
    "name": "ipython",
    "version": 3
   },
   "file_extension": ".py",
   "mimetype": "text/x-python",
   "name": "python",
   "nbconvert_exporter": "python",
   "pygments_lexer": "ipython3",
   "version": "3.12.1"
  }
 },
 "nbformat": 4,
 "nbformat_minor": 2
}
