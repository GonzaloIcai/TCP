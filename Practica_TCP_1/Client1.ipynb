{
 "cells": [
  {
   "cell_type": "code",
   "execution_count": 1,
   "metadata": {},
   "outputs": [
    {
     "name": "stdout",
     "output_type": "stream",
     "text": [
      "RX: Hello Client, welcome!\n"
     ]
    }
   ],
   "source": [
    "import socket\n",
    "import sys\n",
    "\n",
    "# Creamos el socket TCP/IP\n",
    "client_socket = socket.socket(socket.AF_INET, socket.SOCK_STREAM)\n",
    "\n",
    "# Conectamos el socket al servidor\n",
    "server_address = ('localhost', 6780)\n",
    "client_socket.connect(server_address)\n",
    "\n",
    "try:\n",
    "    # Enviamos un mensaje de presentación al servidor\n",
    "    client_socket.sendall(\"Hello Server, I'm Client\".encode())\n",
    "    \n",
    "    # Esperamos la respuesta del servidor\n",
    "    data = client_socket.recv(1024).decode()\n",
    "    print(\"RX:\", data)\n",
    "    \n",
    "    # Enviamos un mensaje al servidor\n",
    "    message = input(\"Enter message: \")\n",
    "    client_socket.sendall(message.encode())\n",
    "finally:\n",
    "    # Cerramos la conexión\n",
    "    client_socket.close()\n"
   ]
  }
 ],
 "metadata": {
  "kernelspec": {
   "display_name": "Python 3",
   "language": "python",
   "name": "python3"
  },
  "language_info": {
   "codemirror_mode": {
    "name": "ipython",
    "version": 3
   },
   "file_extension": ".py",
   "mimetype": "text/x-python",
   "name": "python",
   "nbconvert_exporter": "python",
   "pygments_lexer": "ipython3",
   "version": "3.12.1"
  }
 },
 "nbformat": 4,
 "nbformat_minor": 2
}
