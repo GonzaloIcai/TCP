{
 "cells": [
  {
   "cell_type": "code",
   "execution_count": 1,
   "metadata": {},
   "outputs": [
    {
     "name": "stdout",
     "output_type": "stream",
     "text": [
      "Waiting for connections...\n",
      "RX: Hello Server, I'm Client\n",
      "RX: Hola\n"
     ]
    }
   ],
   "source": [
    "import socket \n",
    "import sys\n",
    "\n",
    "# Creamos el socket TCP/IP\n",
    "server_socket = socket.socket(socket.AF_INET, socket.SOCK_STREAM)\n",
    "\n",
    "# Asignamos una dirección y un puerto al socket\n",
    "server_address = ('localhost', 6780)\n",
    "server_socket.bind(server_address)\n",
    "\n",
    "# Ponemos el servidor en modo de escucha\n",
    "server_socket.listen(5)\n",
    "print(\"Waiting for connections...\")\n",
    "\n",
    "while True:\n",
    "    # Esperamos por una nueva conexión\n",
    "    connection, client_address = server_socket.accept()\n",
    "    try:\n",
    "        print(\"RX:\", connection.recv(1024).decode())\n",
    "        # Enviamos un mensaje de bienvenida al cliente\n",
    "        connection.sendall(\"Hello Client, welcome!\".encode())\n",
    "        \n",
    "        # Configuramos un tiempo de espera para la recepción de datos\n",
    "        connection.settimeout(5)  # Espera 5 segundos para recibir datos\n",
    "        \n",
    "        # Esperamos por el mensaje del cliente\n",
    "        while True:\n",
    "            try:\n",
    "                data = connection.recv(1024).decode()\n",
    "                if not data:\n",
    "                    break  # No hay datos recibidos, salimos del bucle\n",
    "                if data == \"EXIT\":\n",
    "                    print(\"RX:\", data)\n",
    "                    connection.sendall(\"Bye\".encode())\n",
    "                    break\n",
    "                print(\"RX:\", data)\n",
    "            except socket.timeout:\n",
    "                print(\"No data received, timeout occurred\")\n",
    "                break  # Salimos del bucle si ocurre un timeout\n",
    "    finally:\n",
    "        # Cerramos la conexión\n",
    "        connection.close()\n"
   ]
  }
 ],
 "metadata": {
  "kernelspec": {
   "display_name": "Python 3",
   "language": "python",
   "name": "python3"
  },
  "language_info": {
   "codemirror_mode": {
    "name": "ipython",
    "version": 3
   },
   "file_extension": ".py",
   "mimetype": "text/x-python",
   "name": "python",
   "nbconvert_exporter": "python",
   "pygments_lexer": "ipython3",
   "version": "3.12.1"
  }
 },
 "nbformat": 4,
 "nbformat_minor": 2
}
