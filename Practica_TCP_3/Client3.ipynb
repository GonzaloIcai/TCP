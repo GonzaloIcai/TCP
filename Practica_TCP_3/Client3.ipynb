{
 "cells": [
  {
   "cell_type": "code",
   "execution_count": 1,
   "metadata": {},
   "outputs": [],
   "source": [
    "#TCP 3.1 y 3.2\n",
    "\n",
    "\n",
    "import socket\n",
    "import sys\n",
    "\n",
    "# Create a TCP/IP socket\n",
    "sock = socket.socket(socket.AF_INET, socket.SOCK_STREAM)\n",
    "server_address = ('localhost', 6780)\n",
    "sock.connect(server_address)\n",
    "msg = input(\"Insert request:\")\n",
    "if msg.startswith(\"put\"):\n",
    "    file=msg.split()[1]\n",
    "    try:\n",
    "        with open(file, \"rb\") as f:\n",
    "            file = f.read()\n",
    "            sock.sendall(\"Sending file\".encode())\n",
    "            sock.sendall(file)\n",
    "    except FileNotFoundError:\n",
    "        sock.sendall(\"File not found\".encode())\n",
    "\n",
    "data = sock.recv(1024).decode()\n",
    "print(\"RX: \", data)    \n",
    "sock.close()\n",
    "\n"
   ]
  }
 ],
 "metadata": {
  "kernelspec": {
   "display_name": "Python 3",
   "language": "python",
   "name": "python3"
  },
  "language_info": {
   "codemirror_mode": {
    "name": "ipython",
    "version": 3
   },
   "file_extension": ".py",
   "mimetype": "text/x-python",
   "name": "python",
   "nbconvert_exporter": "python",
   "pygments_lexer": "ipython3",
   "version": "3.12.1"
  }
 },
 "nbformat": 4,
 "nbformat_minor": 2
}
