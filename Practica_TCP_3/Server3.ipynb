{
 "cells": [
  {
   "cell_type": "code",
   "execution_count": 2,
   "metadata": {},
   "outputs": [
    {
     "name": "stdout",
     "output_type": "stream",
     "text": [
      "Waiting on conections...\n"
     ]
    },
    {
     "ename": "ConnectionResetError",
     "evalue": "[WinError 10054] Se ha forzado la interrupción de una conexión existente por el host remoto",
     "output_type": "error",
     "traceback": [
      "\u001b[1;31m---------------------------------------------------------------------------\u001b[0m",
      "\u001b[1;31mConnectionResetError\u001b[0m                      Traceback (most recent call last)",
      "Cell \u001b[1;32mIn[2], line 17\u001b[0m\n\u001b[0;32m     15\u001b[0m sock\u001b[38;5;241m.\u001b[39mlisten(\u001b[38;5;241m1\u001b[39m)\n\u001b[0;32m     16\u001b[0m connection, client_address \u001b[38;5;241m=\u001b[39m sock\u001b[38;5;241m.\u001b[39maccept()\n\u001b[1;32m---> 17\u001b[0m data \u001b[38;5;241m=\u001b[39m \u001b[43mconnection\u001b[49m\u001b[38;5;241;43m.\u001b[39;49m\u001b[43mrecv\u001b[49m\u001b[43m(\u001b[49m\u001b[38;5;241;43m1024\u001b[39;49m\u001b[43m)\u001b[49m\u001b[38;5;241m.\u001b[39mdecode()\n\u001b[0;32m     18\u001b[0m \u001b[38;5;28mprint\u001b[39m(\u001b[38;5;124m\"\u001b[39m\u001b[38;5;124mRX: \u001b[39m\u001b[38;5;124m\"\u001b[39m, data)\n\u001b[0;32m     19\u001b[0m \u001b[38;5;28;01mif\u001b[39;00m data\u001b[38;5;241m.\u001b[39mstartswith(\u001b[38;5;124m\"\u001b[39m\u001b[38;5;124mget\u001b[39m\u001b[38;5;124m\"\u001b[39m):\n",
      "\u001b[1;31mConnectionResetError\u001b[0m: [WinError 10054] Se ha forzado la interrupción de una conexión existente por el host remoto"
     ]
    }
   ],
   "source": [
    "#TCP 3.1 y 3.2\n",
    "\n",
    "import socket\n",
    "import sys\n",
    "\n",
    "\n",
    "# Create a TCP/IP socket\n",
    "sock = socket.socket(socket.AF_INET, socket.SOCK_STREAM)\n",
    "server_address = ('localhost', 6780)\n",
    "sock.bind(server_address)\n",
    "#sock.listen(1)\n",
    "\n",
    "while True:\n",
    "    print(\"Waiting on conections...\")\n",
    "    sock.listen(1)\n",
    "    connection, client_address = sock.accept()\n",
    "    data = connection.recv(1024).decode()\n",
    "    print(\"RX: \", data)\n",
    "    if data.startswith(\"get\"):\n",
    "        file = data.split()[1] #Segundo elemento de data = fichero pedido\n",
    "        try:\n",
    "            with open(file, \"rb\") as f:\n",
    "                file=f.read()\n",
    "                connection.sendall(\"File fichero.txt found.\".encode())\n",
    "                connection.sendall(file.encode())\n",
    "        except FileNotFoundError:\n",
    "            connnection.sendall(\"File not found\".encode())\n",
    "            \n",
    "    else:\n",
    "        connection.sendall(\"Goodbye\".encode())\n",
    "        connection.close()\n",
    "        break\n",
    "        \n",
    "    "
   ]
  }
 ],
 "metadata": {
  "kernelspec": {
   "display_name": "Python 3",
   "language": "python",
   "name": "python3"
  },
  "language_info": {
   "codemirror_mode": {
    "name": "ipython",
    "version": 3
   },
   "file_extension": ".py",
   "mimetype": "text/x-python",
   "name": "python",
   "nbconvert_exporter": "python",
   "pygments_lexer": "ipython3",
   "version": "3.12.1"
  }
 },
 "nbformat": 4,
 "nbformat_minor": 2
}
