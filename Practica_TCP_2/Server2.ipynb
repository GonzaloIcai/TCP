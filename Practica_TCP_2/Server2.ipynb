{
 "cells": [
  {
   "cell_type": "code",
   "execution_count": 1,
   "metadata": {},
   "outputs": [
    {
     "name": "stdout",
     "output_type": "stream",
     "text": [
      "Waiting on conections...\n",
      "RX:  Hello Server, This i\n",
      "RX:  s a long message tha\n",
      "RX:  t you will received \n",
      "RX:  in chunks of 20 byte\n",
      "RX:  s\n"
     ]
    }
   ],
   "source": [
    "#TCP 2\n",
    "\n",
    "import socket\n",
    "import sys\n",
    "\n",
    "# Create a TCP/IP socket\n",
    "sock = socket.socket(socket.AF_INET, socket.SOCK_STREAM)\n",
    "server_address = ('localhost', 6780)\n",
    "sock.bind(server_address)\n",
    "\n",
    "MTU = 20;\n",
    "\n",
    "while True:\n",
    "    \n",
    "    print(\"Waiting on conections...\")\n",
    "    sock.listen(1)\n",
    "    connection, client_address = sock.accept()\n",
    "    data = connection.recv(MTU).decode();\n",
    "    \n",
    "    if data.lower() == \"exit\":\n",
    "        connection.sendall(\"Goodbye\".encode())\n",
    "        connection.close()\n",
    "        break\n",
    "    else:\n",
    "        connection.sendall(\"Hi TCP Client\".encode())\n",
    "    \n",
    "    print(\"RX: \", data);\n",
    "\n",
    "    while len(data) >= MTU:\n",
    "        data = connection.recv(MTU).decode()\n",
    "        print(\"RX: \", data);\n",
    "    connection.sendall(\"Hi again Client, this is a long message that you will received in chunks of 20 bytes\".encode())    \n",
    "    sock.listen(1)\n",
    "    connection, client_address = sock.accept()\n",
    "    data = connection.recv(MTU).decode();\n",
    "    \n"
   ]
  }
 ],
 "metadata": {
  "kernelspec": {
   "display_name": "Python 3",
   "language": "python",
   "name": "python3"
  },
  "language_info": {
   "codemirror_mode": {
    "name": "ipython",
    "version": 3
   },
   "file_extension": ".py",
   "mimetype": "text/x-python",
   "name": "python",
   "nbconvert_exporter": "python",
   "pygments_lexer": "ipython3",
   "version": "3.12.1"
  }
 },
 "nbformat": 4,
 "nbformat_minor": 2
}
