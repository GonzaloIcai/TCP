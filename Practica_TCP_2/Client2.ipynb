{
 "cells": [
  {
   "cell_type": "code",
   "execution_count": 1,
   "metadata": {},
   "outputs": [
    {
     "name": "stdout",
     "output_type": "stream",
     "text": [
      "RX:  Hi TCP Client\n",
      "RX:  Hi again Client, thi\n",
      "RX:  s is a long message \n",
      "RX:  that you will receiv\n",
      "RX:  ed in chunks of 20 b\n",
      "RX:  ytes\n"
     ]
    }
   ],
   "source": [
    "#TCP 2 \n",
    "\n",
    "# Base Code\n",
    "import socket\n",
    "import sys\n",
    "\n",
    "# Create a TCP/IP socket\n",
    "sock = socket.socket(socket.AF_INET, socket.SOCK_STREAM)\n",
    "server_address = ('localhost', 6780)\n",
    "sock.connect(server_address)\n",
    "sock.sendall(\"Hello Server, This is a long message that you will received in chunks of 20 bytes\".encode())\n",
    "data = sock.recv(1024).decode()\n",
    "print(\"RX: \", data)\n",
    "\n",
    "MTU = 20;\n",
    "\n",
    "data_new = sock.recv(MTU).decode()\n",
    "print(\"RX: \", data_new)\n",
    "\n",
    "while len(data_new) >= MTU:\n",
    "    data_new = sock.recv(MTU).decode()\n",
    "    print(\"RX: \", data_new);\n",
    "sock.close()"
   ]
  }
 ],
 "metadata": {
  "kernelspec": {
   "display_name": "Python 3",
   "language": "python",
   "name": "python3"
  },
  "language_info": {
   "codemirror_mode": {
    "name": "ipython",
    "version": 3
   },
   "file_extension": ".py",
   "mimetype": "text/x-python",
   "name": "python",
   "nbconvert_exporter": "python",
   "pygments_lexer": "ipython3",
   "version": "3.12.1"
  }
 },
 "nbformat": 4,
 "nbformat_minor": 2
}
